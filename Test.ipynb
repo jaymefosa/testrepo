{
 "cells": [
  {
   "cell_type": "code",
   "execution_count": 1,
   "metadata": {},
   "outputs": [
    {
     "data": {
      "text/html": [
       "\n",
       "        <link rel=\"stylesheet\"\n",
       "              href=\"https://fonts.googleapis.com/css?family=Roboto|Urbana|Tangerine|Roboto Mono&effect=shadow-multiple|\n",
       "              fire-animation|neon|outline\">\n",
       "        <style>\n",
       "          div.roboto {\n",
       "            font-family: 'Roboto';\n",
       "            font-size: 28px;\n",
       "          }\n",
       "        div.tangerine {\n",
       "            font-family: 'Tangerine';\n",
       "            font-size: 38px;\n",
       "          }\n",
       "        div.fakeh1tan {\n",
       "            font-family: 'Tangerine';\n",
       "            font-size: 68px;\n",
       "          }\n",
       "        </style>\n",
       "        \n",
       "        \n",
       "        \n",
       "\n",
       "    "
      ],
      "text/plain": [
       "<IPython.core.display.HTML object>"
      ]
     },
     "execution_count": 1,
     "metadata": {},
     "output_type": "execute_result"
    }
   ],
   "source": [
    "%load_ext autoreload\n",
    "%autoreload 2\n",
    "from IPython.display import HTML\n",
    "\n",
    "from fontSetup import setFont\n",
    "HTML(setFont())"
   ]
  },
  {
   "cell_type": "markdown",
   "metadata": {},
   "source": [
    "<div class='fakeh1tan'>This should be Verdana font.</div>"
   ]
  },
  {
   "cell_type": "markdown",
   "metadata": {},
   "source": [
    "<div class='tangerine font-effect-neon'>This should be Verdana font.</div>"
   ]
  },
  {
   "cell_type": "code",
   "execution_count": null,
   "metadata": {},
   "outputs": [],
   "source": []
  }
 ],
 "metadata": {
  "kernelspec": {
   "display_name": "Python 3",
   "language": "python",
   "name": "python3"
  },
  "language_info": {
   "codemirror_mode": {
    "name": "ipython",
    "version": 3
   },
   "file_extension": ".py",
   "mimetype": "text/x-python",
   "name": "python",
   "nbconvert_exporter": "python",
   "pygments_lexer": "ipython3",
   "version": "3.6.10"
  }
 },
 "nbformat": 4,
 "nbformat_minor": 4
}
